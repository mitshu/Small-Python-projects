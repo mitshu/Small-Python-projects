{
 "cells": [
  {
   "cell_type": "code",
   "execution_count": 1,
   "metadata": {},
   "outputs": [],
   "source": [
    "import pandas as pd\n",
    "import tweepy\n",
    "from textblob import TextBlob"
   ]
  },
  {
   "cell_type": "code",
   "execution_count": 2,
   "metadata": {},
   "outputs": [],
   "source": [
    "consumer_key = \"D3QYPb0oAVCcQGz1LIwcK18QD\"\n",
    "consumer_secret = \"lBx7VGrtKmiDORIKfi21KBb8VCeBAoVPGsXTthXmketA0l3Gq6\"\n",
    "access_token = \"1200987912122187779-Q05gzE60LhUWX4SIi5sejJya1NX7H6\"\n",
    "access_token_secret = \"aMwlJwRd1yyectBFNT0upbI5H9vOLjwuF2kwwGmpS9eeN\""
   ]
  },
  {
   "cell_type": "code",
   "execution_count": 3,
   "metadata": {},
   "outputs": [],
   "source": [
    "auth = tweepy.OAuthHandler(consumer_key, consumer_secret)\n",
    "auth.set_access_token(access_token,access_token_secret)\n",
    "api = tweepy.API(auth)"
   ]
  },
  {
   "cell_type": "code",
   "execution_count": 5,
   "metadata": {},
   "outputs": [
    {
     "name": "stdout",
     "output_type": "stream",
     "text": [
      "Topic: trump\n"
     ]
    }
   ],
   "source": [
    "topic = str(input('Topic: '))\n",
    "pub_tweets = api.search(topic,count=100)\n",
    "data = pd.DataFrame(data=[tweet.text for tweet in pub_tweets], columns = ['Tweets'])"
   ]
  },
  {
   "cell_type": "code",
   "execution_count": 6,
   "metadata": {},
   "outputs": [
    {
     "data": {
      "text/html": [
       "<div>\n",
       "<style scoped>\n",
       "    .dataframe tbody tr th:only-of-type {\n",
       "        vertical-align: middle;\n",
       "    }\n",
       "\n",
       "    .dataframe tbody tr th {\n",
       "        vertical-align: top;\n",
       "    }\n",
       "\n",
       "    .dataframe thead th {\n",
       "        text-align: right;\n",
       "    }\n",
       "</style>\n",
       "<table border=\"1\" class=\"dataframe\">\n",
       "  <thead>\n",
       "    <tr style=\"text-align: right;\">\n",
       "      <th></th>\n",
       "      <th>Tweets</th>\n",
       "      <th>polarity</th>\n",
       "    </tr>\n",
       "  </thead>\n",
       "  <tbody>\n",
       "    <tr>\n",
       "      <td>0</td>\n",
       "      <td>RT @NAR: CECC's 2019 report led by @marcorubio...</td>\n",
       "      <td>0.00</td>\n",
       "    </tr>\n",
       "    <tr>\n",
       "      <td>1</td>\n",
       "      <td>@SpeakerPelosi @RepSlotkin Meh\\n\\nIn spite of ...</td>\n",
       "      <td>0.00</td>\n",
       "    </tr>\n",
       "    <tr>\n",
       "      <td>2</td>\n",
       "      <td>RT @jentaub: @realDonaldTrump Sir, Impeachment...</td>\n",
       "      <td>0.00</td>\n",
       "    </tr>\n",
       "    <tr>\n",
       "      <td>3</td>\n",
       "      <td>RT @OhNoSheTwitnt: [Tiffany Trump when this is...</td>\n",
       "      <td>-0.75</td>\n",
       "    </tr>\n",
       "    <tr>\n",
       "      <td>4</td>\n",
       "      <td>RT @real_defender: @realDonaldTrump Ohio can’t...</td>\n",
       "      <td>0.10</td>\n",
       "    </tr>\n",
       "    <tr>\n",
       "      <td>...</td>\n",
       "      <td>...</td>\n",
       "      <td>...</td>\n",
       "    </tr>\n",
       "    <tr>\n",
       "      <td>95</td>\n",
       "      <td>Podem criticar o Trump o quanto for (eu mesmo ...</td>\n",
       "      <td>0.00</td>\n",
       "    </tr>\n",
       "    <tr>\n",
       "      <td>96</td>\n",
       "      <td>RT @mitchellvii: In 3 key swing districts, vot...</td>\n",
       "      <td>0.25</td>\n",
       "    </tr>\n",
       "    <tr>\n",
       "      <td>97</td>\n",
       "      <td>RT @okundra: Na socialnich sitich vzbudil velk...</td>\n",
       "      <td>0.00</td>\n",
       "    </tr>\n",
       "    <tr>\n",
       "      <td>98</td>\n",
       "      <td>RT @ACTBrigitte: The U.S. didn't have to kill ...</td>\n",
       "      <td>-0.80</td>\n",
       "    </tr>\n",
       "    <tr>\n",
       "      <td>99</td>\n",
       "      <td>@reaganweeps @JCTheResistance @DHStokyo Check ...</td>\n",
       "      <td>0.40</td>\n",
       "    </tr>\n",
       "  </tbody>\n",
       "</table>\n",
       "<p>100 rows × 2 columns</p>\n",
       "</div>"
      ],
      "text/plain": [
       "                                               Tweets  polarity\n",
       "0   RT @NAR: CECC's 2019 report led by @marcorubio...      0.00\n",
       "1   @SpeakerPelosi @RepSlotkin Meh\\n\\nIn spite of ...      0.00\n",
       "2   RT @jentaub: @realDonaldTrump Sir, Impeachment...      0.00\n",
       "3   RT @OhNoSheTwitnt: [Tiffany Trump when this is...     -0.75\n",
       "4   RT @real_defender: @realDonaldTrump Ohio can’t...      0.10\n",
       "..                                                ...       ...\n",
       "95  Podem criticar o Trump o quanto for (eu mesmo ...      0.00\n",
       "96  RT @mitchellvii: In 3 key swing districts, vot...      0.25\n",
       "97  RT @okundra: Na socialnich sitich vzbudil velk...      0.00\n",
       "98  RT @ACTBrigitte: The U.S. didn't have to kill ...     -0.80\n",
       "99  @reaganweeps @JCTheResistance @DHStokyo Check ...      0.40\n",
       "\n",
       "[100 rows x 2 columns]"
      ]
     },
     "metadata": {},
     "output_type": "display_data"
    }
   ],
   "source": [
    "#sid = SentimentIntensityAnalyzer()\n",
    "pos = 0;\n",
    "neg = 0;\n",
    "\n",
    "for tweet in pub_tweets:\n",
    "    analysis = TextBlob(tweet.text)\n",
    "    if analysis.sentiment.polarity > 0:\n",
    "        pos += 1\n",
    "    elif analysis.sentiment.polarity < 0:\n",
    "        neg += 1\n",
    "        \n",
    "listy = []\n",
    "\n",
    "for index, row in data.iterrows():\n",
    "  ss = TextBlob(row[\"Tweets\"]).polarity\n",
    "  listy.append(ss) \n",
    " \n",
    "se = pd.Series(listy)\n",
    "data['polarity'] = se.values\n",
    "\n",
    "display(data.head(100))"
   ]
  },
  {
   "cell_type": "code",
   "execution_count": null,
   "metadata": {},
   "outputs": [],
   "source": [
    "import matplotlib.pyplot as plt\n",
    "\n",
    "labels = 'Positive', 'Negative', 'Neutral',\n",
    "sizes = [pos,neg,(100-pos-neg)]\n",
    "explode = (0.1, 0, 0)  \n",
    "\n",
    "fig1, ax1 = plt.subplots()\n",
    "ax1.pie(sizes, explode=explode, labels=labels, autopct='%1.1f%%',\n",
    "        shadow=True, startangle=90)\n",
    "ax1.axis('equal') \n",
    "plt.show()"
   ]
  },
  {
   "cell_type": "code",
   "execution_count": 10,
   "metadata": {},
   "outputs": [],
   "source": []
  },
  {
   "cell_type": "code",
   "execution_count": null,
   "metadata": {},
   "outputs": [],
   "source": []
  }
 ],
 "metadata": {
  "kernelspec": {
   "display_name": "Python 3",
   "language": "python",
   "name": "python3"
  },
  "language_info": {
   "codemirror_mode": {
    "name": "ipython",
    "version": 3
   },
   "file_extension": ".py",
   "mimetype": "text/x-python",
   "name": "python",
   "nbconvert_exporter": "python",
   "pygments_lexer": "ipython3",
   "version": "3.7.4"
  }
 },
 "nbformat": 4,
 "nbformat_minor": 2
}
